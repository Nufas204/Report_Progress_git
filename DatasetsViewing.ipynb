{
 "cells": [
  {
   "cell_type": "markdown",
   "metadata": {},
   "source": [
    "# Progress Report 17Dec"
   ]
  },
  {
   "cell_type": "markdown",
   "metadata": {},
   "source": [
    "Using Haxby dataset for single subject"
   ]
  },
  {
   "cell_type": "code",
   "execution_count": 1,
   "metadata": {
    "collapsed": true
   },
   "outputs": [],
   "source": [
    "# Numpy and Matplotlib library dependencies\n",
    "import matplotlib.pyplot as plt\n",
    "import numpy as np"
   ]
  },
  {
   "cell_type": "code",
   "execution_count": 2,
   "metadata": {
    "collapsed": true
   },
   "outputs": [],
   "source": [
    "# Nilearn basic\n",
    "from nilearn import datasets, plotting, image"
   ]
  },
  {
   "cell_type": "code",
   "execution_count": 3,
   "metadata": {
    "collapsed": true
   },
   "outputs": [],
   "source": [
    "haxby_dataset = datasets.fetch_haxby()"
   ]
  },
  {
   "cell_type": "code",
   "execution_count": 4,
   "metadata": {
    "collapsed": false
   },
   "outputs": [
    {
     "name": "stdout",
     "output_type": "stream",
     "text": [
      "First subject anatomical nifti image (3D) is at: C:\\Users\\Nufa/nilearn_data\\haxby2001\\subj1\\anat.nii.gz\n"
     ]
    }
   ],
   "source": [
    "# print basic information on the dataset\n",
    "print('First subject anatomical nifti image (3D) is at: %s' % haxby_dataset.anat[0])"
   ]
  },
  {
   "cell_type": "code",
   "execution_count": 5,
   "metadata": {
    "collapsed": false
   },
   "outputs": [
    {
     "name": "stdout",
     "output_type": "stream",
     "text": [
      "First subject functional nifti images (4D) are at: C:\\Users\\Nufa/nilearn_data\\haxby2001\\subj1\\bold.nii.gz\n"
     ]
    }
   ],
   "source": [
    "print('First subject functional nifti images (4D) are at: %s' % haxby_dataset.func[0])  # 4D data"
   ]
  },
  {
   "cell_type": "code",
   "execution_count": 6,
   "metadata": {
    "collapsed": true
   },
   "outputs": [],
   "source": [
    "# Identification of datasets\n",
    "haxby_anat_filename = haxby_dataset.anat[0]\n",
    "haxby_mask_filename = haxby_dataset.mask_vt[0]\n",
    "haxby_func_filename = haxby_dataset.func[0]"
   ]
  },
  {
   "cell_type": "code",
   "execution_count": 7,
   "metadata": {
    "collapsed": true
   },
   "outputs": [],
   "source": [
    "smooth_anat_img = image.smooth_img(haxby_anat_filename, 3)"
   ]
  },
  {
   "cell_type": "code",
   "execution_count": 8,
   "metadata": {
    "collapsed": true
   },
   "outputs": [],
   "source": [
    "haxby_anat_data = smooth_anat_img.get_data()"
   ]
  },
  {
   "cell_type": "code",
   "execution_count": 9,
   "metadata": {
    "collapsed": false
   },
   "outputs": [
    {
     "name": "stdout",
     "output_type": "stream",
     "text": [
      " Haxby anat data has shape: (124, 256, 256)\n"
     ]
    }
   ],
   "source": [
    "print (' Haxby anat data has shape: %s' % str(haxby_anat_data.shape))"
   ]
  },
  {
   "cell_type": "code",
   "execution_count": 10,
   "metadata": {
    "collapsed": false
   },
   "outputs": [
    {
     "name": "stdout",
     "output_type": "stream",
     "text": [
      "Haxby_anat_affine:\n",
      "[[  -1.20000005    0.            0.           73.80000293]\n",
      " [   0.            0.9375        0.         -119.53125   ]\n",
      " [   0.            0.            0.9375     -119.53125   ]\n",
      " [   0.            0.            0.            1.        ]]\n"
     ]
    }
   ],
   "source": [
    "haxby_anat_affine = smooth_anat_img.get_affine()\n",
    "print('Haxby_anat_affine:\\n%s' % haxby_anat_affine)"
   ]
  },
  {
   "cell_type": "code",
   "execution_count": 11,
   "metadata": {
    "collapsed": true
   },
   "outputs": [],
   "source": [
    "#Visualization\n",
    "cut_coords =(0,0,0)"
   ]
  },
  {
   "cell_type": "code",
   "execution_count": 18,
   "metadata": {
    "collapsed": false,
    "scrolled": true
   },
   "outputs": [],
   "source": [
    "plotting.plot_anat(haxby_anat_filename, cut_coords=cut_coords,\n",
    "                   title='Anatomy image')\n",
    "plotting.show()"
   ]
  },
  {
   "cell_type": "code",
   "execution_count": 20,
   "metadata": {
    "collapsed": false
   },
   "outputs": [],
   "source": [
    "plotting.plot_anat(smooth_anat_img,\n",
    "                   cut_coords=cut_coords,\n",
    "                   title='Smoothed anatomy image')\n",
    "plotting.show()"
   ]
  },
  {
   "cell_type": "code",
   "execution_count": null,
   "metadata": {
    "collapsed": true
   },
   "outputs": [],
   "source": []
  }
 ],
 "metadata": {
  "kernelspec": {
   "display_name": "Python 3",
   "language": "python",
   "name": "python3"
  },
  "language_info": {
   "codemirror_mode": {
    "name": "ipython",
    "version": 3
   },
   "file_extension": ".py",
   "mimetype": "text/x-python",
   "name": "python",
   "nbconvert_exporter": "python",
   "pygments_lexer": "ipython3",
   "version": "3.5.1"
  }
 },
 "nbformat": 4,
 "nbformat_minor": 0
}
