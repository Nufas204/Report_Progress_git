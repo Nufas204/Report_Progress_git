{
 "cells": [
  {
   "cell_type": "markdown",
   "metadata": {},
   "source": [
    "# Nibabel and Haxby dataset manipulation\n",
    "Using nibabel for nifti image conversion to numpy array of Haxby dataset. To understand how nibabel works, please refer to NibabelTut."
   ]
  },
  {
   "cell_type": "code",
   "execution_count": 1,
   "metadata": {
    "collapsed": false,
    "scrolled": true
   },
   "outputs": [],
   "source": [
    "import nibabel as nib\n",
    "import numpy as np\n",
    "import matplotlib.pyplot as plt\n",
    "%matplotlib inline"
   ]
  },
  {
   "cell_type": "code",
   "execution_count": 2,
   "metadata": {
    "collapsed": true
   },
   "outputs": [],
   "source": [
    "# Load() and get_data() using nibabel\n",
    "Haxby_bold_sub1 = nib.load('D:/Haxby2001/subj1/bold.nii')\n",
    "Haxby_sub1 = Haxby_bold_sub1.get_data()"
   ]
  },
  {
   "cell_type": "code",
   "execution_count": 3,
   "metadata": {
    "collapsed": false
   },
   "outputs": [],
   "source": [
    "# Print the shape/dimension to get the intuition of the data\n",
    "x, y, z, t = Haxby_sub1.shape"
   ]
  },
  {
   "cell_type": "code",
   "execution_count": 4,
   "metadata": {
    "collapsed": false
   },
   "outputs": [],
   "source": [
    "# We will try to use the x-axis(saggital) centre data for data manipulation\n",
    "# For example, at t=0\n",
    "a = Haxby_sub1[20, :, :, 0]"
   ]
  },
  {
   "cell_type": "code",
   "execution_count": 5,
   "metadata": {
    "collapsed": false
   },
   "outputs": [],
   "source": [
    "# Using for loop to extract the x=20 images for t=0:1452\n",
    "# flatten() is used to convert 2D to 1D and reshape() is used for row-wise\n",
    "Haxby_sub1_x20 = np.zeros((t,y*z))\n",
    "for i in range(0,t):\n",
    "    Haxby_sub1_x20 [i,:]= Haxby_sub1[20, :, :, i].flatten().reshape(1,np.product(a.shape))"
   ]
  },
  {
   "cell_type": "code",
   "execution_count": 6,
   "metadata": {
    "collapsed": false
   },
   "outputs": [
    {
     "name": "stdout",
     "output_type": "stream",
     "text": [
      "[[  0.   0.   0. ...,   0.   0.   0.]\n",
      " [  0.   0.   0. ...,   0.   0.   0.]\n",
      " [  0.   0.   0. ...,   0.   0.   0.]\n",
      " ..., \n",
      " [  0.  92.  61. ...,  56.  14.   0.]\n",
      " [  0.  91.  73. ...,  62.  18.   0.]\n",
      " [  0.  82.  64. ...,  62.  17.   0.]]\n"
     ]
    },
    {
     "data": {
      "text/plain": [
       "(1452, 4096)"
      ]
     },
     "execution_count": 6,
     "metadata": {},
     "output_type": "execute_result"
    }
   ],
   "source": [
    "print(Haxby_sub1_x20)\n",
    "Haxby_sub1_x20.shape"
   ]
  },
  {
   "cell_type": "code",
   "execution_count": 7,
   "metadata": {
    "collapsed": false
   },
   "outputs": [
    {
     "ename": "NameError",
     "evalue": "name 'c' is not defined",
     "output_type": "error",
     "traceback": [
      "\u001b[1;31m---------------------------------------------------------------------------\u001b[0m",
      "\u001b[1;31mNameError\u001b[0m                                 Traceback (most recent call last)",
      "\u001b[1;32m<ipython-input-7-e903e4a533a3>\u001b[0m in \u001b[0;36m<module>\u001b[1;34m()\u001b[0m\n\u001b[1;32m----> 1\u001b[1;33m \u001b[0mnp\u001b[0m\u001b[1;33m.\u001b[0m\u001b[0msavetxt\u001b[0m\u001b[1;33m(\u001b[0m\u001b[1;34m\"Haxby_sub1_x20.csv\"\u001b[0m\u001b[1;33m,\u001b[0m \u001b[0mc\u001b[0m\u001b[1;33m,\u001b[0m \u001b[0mfmt\u001b[0m\u001b[1;33m=\u001b[0m\u001b[1;34m'%d'\u001b[0m\u001b[1;33m,\u001b[0m \u001b[0mdelimiter\u001b[0m\u001b[1;33m=\u001b[0m\u001b[1;34m','\u001b[0m\u001b[1;33m)\u001b[0m\u001b[1;33m\u001b[0m\u001b[0m\n\u001b[0m",
      "\u001b[1;31mNameError\u001b[0m: name 'c' is not defined"
     ]
    }
   ],
   "source": [
    "np.savetxt(\"Haxby_sub1_x20.csv\", c, fmt='%d', delimiter=',')"
   ]
  },
  {
   "cell_type": "markdown",
   "metadata": {},
   "source": [
    "## Testing the data with simple machine learning\n",
    "There are two types of extracted data:\n",
    "    1. a 2D array: Haxby_sub1_x20\n",
    "    2. an scv file: Haxby_sub1_x20.csv"
   ]
  },
  {
   "cell_type": "markdown",
   "metadata": {},
   "source": [
    "### Using neural network\n",
    "http://iamtrask.github.io/2015/07/12/basic-python-network/"
   ]
  },
  {
   "cell_type": "code",
   "execution_count": 8,
   "metadata": {
    "collapsed": false
   },
   "outputs": [
    {
     "data": {
      "text/plain": [
       "(4096, 1452)"
      ]
     },
     "execution_count": 8,
     "metadata": {},
     "output_type": "execute_result"
    }
   ],
   "source": [
    "# Input dataset is the (1452, 4096) single axis data at x=20\n",
    "X = Haxby_sub1_x20.astype(int).T\n",
    "X.shape"
   ]
  },
  {
   "cell_type": "code",
   "execution_count": 9,
   "metadata": {
    "collapsed": false
   },
   "outputs": [
    {
     "data": {
      "text/plain": [
       "(4096,)"
      ]
     },
     "execution_count": 9,
     "metadata": {},
     "output_type": "execute_result"
    }
   ],
   "source": [
    "# Output dataset is the same as input (for autoencoder) for t=0\n",
    "y = Haxby_sub1_x20[0].T\n",
    "y.shape"
   ]
  },
  {
   "cell_type": "code",
   "execution_count": 10,
   "metadata": {
    "collapsed": true
   },
   "outputs": [],
   "source": [
    "# Activation function will be the sigmoid function\n",
    "def nonlin(x,deriv=False):\n",
    "    if(deriv == True):\n",
    "        return x*(1-x)\n",
    "    return 1/(1 + np.exp(-x))"
   ]
  },
  {
   "cell_type": "code",
   "execution_count": 11,
   "metadata": {
    "collapsed": true
   },
   "outputs": [],
   "source": [
    "# Seed random numbers for weights\n",
    "np.random.seed(1)"
   ]
  },
  {
   "cell_type": "code",
   "execution_count": 12,
   "metadata": {
    "collapsed": false
   },
   "outputs": [],
   "source": [
    "# Initialize weights randomly\n",
    "w_0 = 20 * np.random.random((1452))-20"
   ]
  },
  {
   "cell_type": "code",
   "execution_count": 13,
   "metadata": {
    "collapsed": false
   },
   "outputs": [
    {
     "name": "stderr",
     "output_type": "stream",
     "text": [
      "C:\\Users\\Nufas\\Anaconda3\\lib\\site-packages\\ipykernel\\__main__.py:5: RuntimeWarning: overflow encountered in exp\n"
     ]
    }
   ],
   "source": [
    "# Neural Network\n",
    "xrange = np.arange(10)\n",
    "for iter in xrange:\n",
    "    \n",
    "    #forward Propagation\n",
    "    layer_0 = X\n",
    "    layer_1 = nonlin(np.dot(layer_0, w_0))\n",
    "    \n",
    "    # error calculation\n",
    "    layer_1_err = y - layer_1\n",
    "    \n",
    "    # multiply the error with the derivative of activation function\n",
    "    layer_1_del = layer_1_err * nonlin(layer_1, True)\n",
    "    \n",
    "    # Update the weights\n",
    "    w_0 += np.dot(layer_0.T, layer_1_del)"
   ]
  },
  {
   "cell_type": "code",
   "execution_count": 14,
   "metadata": {
    "collapsed": false
   },
   "outputs": [
    {
     "name": "stdout",
     "output_type": "stream",
     "text": [
      "Output after 10 times is\n",
      "[ 0.  0.  0. ...,  0.  0.  0.]\n"
     ]
    }
   ],
   "source": [
    "print (\"Output after 10 times is\")\n",
    "print (layer_1)"
   ]
  },
  {
   "cell_type": "code",
   "execution_count": null,
   "metadata": {
    "collapsed": true
   },
   "outputs": [],
   "source": []
  }
 ],
 "metadata": {
  "kernelspec": {
   "display_name": "Python 3",
   "language": "python",
   "name": "python3"
  },
  "language_info": {
   "codemirror_mode": {
    "name": "ipython",
    "version": 3
   },
   "file_extension": ".py",
   "mimetype": "text/x-python",
   "name": "python",
   "nbconvert_exporter": "python",
   "pygments_lexer": "ipython3",
   "version": "3.5.1"
  }
 },
 "nbformat": 4,
 "nbformat_minor": 0
}
